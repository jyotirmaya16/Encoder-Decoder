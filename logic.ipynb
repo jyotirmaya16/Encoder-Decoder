{
 "cells": [
  {
   "cell_type": "code",
   "execution_count": 8,
   "metadata": {},
   "outputs": [],
   "source": [
    "#atbash_cipher incoder logic \n",
    "def atbash_cipher(x):\n",
    "    import string\n",
    "    a=string.ascii_lowercase\n",
    "   \n",
    "    p=x.lower() #--------------- logic start\n",
    "    q=p.split()\n",
    "\n",
    "    final_encode0=[]\n",
    "    for n in q:\n",
    "        encode=''   \n",
    "        for i in n:\n",
    "            firstdiff=abs(1 - (a.index(i)+1)) #=1 for cancellout the n-1 rule in indexing \n",
    "            finalencode= a[(26-firstdiff)-1] #-1 for cancellout the n-1 rule in indexing\n",
    "            encode=encode+finalencode\n",
    "        final_encode0.append(encode)\n",
    "    final_encode1=\" \".join(final_encode0)\n",
    "\n",
    "    return(final_encode1)"
   ]
  },
  {
   "cell_type": "code",
   "execution_count": 9,
   "metadata": {},
   "outputs": [
    {
     "data": {
      "text/plain": [
       "'yzkfmr'"
      ]
     },
     "execution_count": 9,
     "metadata": {},
     "output_type": "execute_result"
    }
   ],
   "source": [
    "atbash_cipher(\"bapuNi\")"
   ]
  },
  {
   "cell_type": "code",
   "execution_count": 6,
   "metadata": {},
   "outputs": [],
   "source": [
    "#a1z26 encode\n",
    "def a1z26_encode(x):\n",
    "    r=x.lower()\n",
    "    r=r.split()\n",
    "\n",
    "    import string\n",
    "    a=string.ascii_lowercase\n",
    "    b=[n for n in range(1,27)]\n",
    "    d={}\n",
    "\n",
    "    for n in range(26):\n",
    "        d[a[n]]=b[n]\n",
    "\n",
    "\n",
    "    final_encode0=[]\n",
    "    for n in r:\n",
    "        encode=\"\"\n",
    "        for i in n:\n",
    "           t=d[i]\n",
    "           encode=encode+str(t)+\" \"\n",
    "        final_encode0.append(encode)\n",
    "    final_encode1=\"\".join(final_encode0)\n",
    "    return(final_encode1)"
   ]
  },
  {
   "cell_type": "code",
   "execution_count": 7,
   "metadata": {},
   "outputs": [
    {
     "data": {
      "text/plain": [
       "'2 1 16 21 14 '"
      ]
     },
     "execution_count": 7,
     "metadata": {},
     "output_type": "execute_result"
    }
   ],
   "source": [
    "a1z26_encode(\"bapuN\")"
   ]
  },
  {
   "cell_type": "code",
   "execution_count": 15,
   "metadata": {},
   "outputs": [],
   "source": [
    "#a1z26 decode\n",
    "def a1z26_decode(x):\n",
    "    r=x.lower()\n",
    "    r=r.split()\n",
    "\n",
    "    import string\n",
    "    a=string.ascii_lowercase #-----------\n",
    "    b=[str(n) for n in range(1,27)]\n",
    "    d={}\n",
    "\n",
    "    for n in range(26):\n",
    "        d[b[n]]=a[n] #--------------\n",
    "\n",
    "    final_encode0=[]\n",
    "    encode=\"\"\n",
    "    for n in r:\n",
    "        t=d[n]\n",
    "        encode=encode+t\n",
    "        final_encode0.append(encode)\n",
    "    return(encode)\n"
   ]
  },
  {
   "cell_type": "code",
   "execution_count": 16,
   "metadata": {},
   "outputs": [
    {
     "data": {
      "text/plain": [
       "'bapuni'"
      ]
     },
     "execution_count": 16,
     "metadata": {},
     "output_type": "execute_result"
    }
   ],
   "source": [
    "a1z26_decode(\"2 1 16 21 14 9\")"
   ]
  },
  {
   "cell_type": "code",
   "execution_count": 13,
   "metadata": {},
   "outputs": [],
   "source": [
    "def a1z26(x):\n",
    "    z=x\n",
    "    z=z.split()\n",
    "    \n",
    "# Check if it's an encoding case (i.e., contains alphabetic characters)\n",
    "    if z[0].isnumeric()==False:\n",
    "        try:\n",
    "          return(a1z26_encode(x))\n",
    "        except:\n",
    "            return(\"Note : There should not be any Numbers, punctuation, and special characters while encoding\")\n",
    "        \n",
    "# Check if it's a decoding case (i.e., contains numeric values)     \n",
    "    elif z[0].isnumeric() == True:\n",
    "        for i in z:\n",
    "            # If any number in the list is greater than 26, return an error message\n",
    "            if int(i) > 26:\n",
    "                return \"Error: Numbers must be less than or equal to 26.\"\n",
    "        \n",
    "        try:\n",
    "            return a1z26_decode(x)\n",
    "        except:\n",
    "            return \"Note: Only numeric values are allowed for decoding. Alphabets, punctuation, and special characters are not supported.\""
   ]
  },
  {
   "cell_type": "code",
   "execution_count": 14,
   "metadata": {},
   "outputs": [
    {
     "data": {
      "text/plain": [
       "'bapuni'"
      ]
     },
     "execution_count": 14,
     "metadata": {},
     "output_type": "execute_result"
    }
   ],
   "source": [
    "a1z26(\"2 1 16 21 14 9 \")"
   ]
  }
 ],
 "metadata": {
  "kernelspec": {
   "display_name": "Python 3",
   "language": "python",
   "name": "python3"
  },
  "language_info": {
   "codemirror_mode": {
    "name": "ipython",
    "version": 3
   },
   "file_extension": ".py",
   "mimetype": "text/x-python",
   "name": "python",
   "nbconvert_exporter": "python",
   "pygments_lexer": "ipython3",
   "version": "3.11.4"
  }
 },
 "nbformat": 4,
 "nbformat_minor": 2
}
